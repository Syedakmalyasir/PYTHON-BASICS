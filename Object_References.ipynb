{
  "nbformat": 4,
  "nbformat_minor": 0,
  "metadata": {
    "colab": {
      "provenance": []
    },
    "kernelspec": {
      "name": "python3",
      "display_name": "Python 3"
    },
    "language_info": {
      "name": "python"
    }
  },
  "cells": [
    {
      "cell_type": "code",
      "execution_count": 1,
      "metadata": {
        "colab": {
          "base_uri": "https://localhost:8080/"
        },
        "id": "I4BC5Dqiko6Q",
        "outputId": "008d27ec-2a19-4d21-ad59-a15123b92c33"
      },
      "outputs": [
        {
          "output_type": "execute_result",
          "data": {
            "text/plain": [
              "(136624635658768, 136624635658768, 136624635658768)"
            ]
          },
          "metadata": {},
          "execution_count": 1
        }
      ],
      "source": [
        "a = 10\n",
        "b = a\n",
        "c = 10\n",
        "id(a), id(b), id(c)"
      ]
    },
    {
      "cell_type": "code",
      "source": [
        "b = b+1\n",
        "id(a), id(b), id(c)"
      ],
      "metadata": {
        "colab": {
          "base_uri": "https://localhost:8080/"
        },
        "id": "zOS7QbGuk0kD",
        "outputId": "f1483245-c1f5-4a6e-950f-cb2a10f4b0ac"
      },
      "execution_count": 2,
      "outputs": [
        {
          "output_type": "execute_result",
          "data": {
            "text/plain": [
              "(136624635658768, 136624635658800, 136624635658768)"
            ]
          },
          "metadata": {},
          "execution_count": 2
        }
      ]
    },
    {
      "cell_type": "code",
      "source": [
        "m = 50\n",
        "n = 60"
      ],
      "metadata": {
        "id": "jzH8KAAjk_D_"
      },
      "execution_count": 3,
      "outputs": []
    },
    {
      "cell_type": "code",
      "source": [
        "id(m), id(n)"
      ],
      "metadata": {
        "colab": {
          "base_uri": "https://localhost:8080/"
        },
        "id": "jbbbIzlhk_Jp",
        "outputId": "32acdf68-f073-4a89-d886-b97694e7cd3f"
      },
      "execution_count": 4,
      "outputs": [
        {
          "output_type": "execute_result",
          "data": {
            "text/plain": [
              "(136624635660048, 136624635660368)"
            ]
          },
          "metadata": {},
          "execution_count": 4
        }
      ]
    },
    {
      "cell_type": "code",
      "source": [
        "m = n\n",
        "\n",
        "id(m), id(n)"
      ],
      "metadata": {
        "colab": {
          "base_uri": "https://localhost:8080/"
        },
        "id": "eOfamPwrlE4T",
        "outputId": "7e5c5366-c017-49d9-e610-b6836a1c209e"
      },
      "execution_count": 5,
      "outputs": [
        {
          "output_type": "execute_result",
          "data": {
            "text/plain": [
              "(136624635660368, 136624635660368)"
            ]
          },
          "metadata": {},
          "execution_count": 5
        }
      ]
    }
  ]
}