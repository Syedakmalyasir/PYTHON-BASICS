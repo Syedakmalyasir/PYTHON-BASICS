{
  "nbformat": 4,
  "nbformat_minor": 0,
  "metadata": {
    "colab": {
      "provenance": []
    },
    "kernelspec": {
      "name": "python3",
      "display_name": "Python 3"
    },
    "language_info": {
      "name": "python"
    }
  },
  "cells": [
    {
      "cell_type": "markdown",
      "source": [
        "Identifiers\n",
        "\n",
        "An identifier is a name given to entities like class, functions, variables, etc\n",
        "\n",
        "Rules for naming an Identifier\n",
        "\n",
        "a-z\n",
        "\n",
        "A-Z\n",
        "\n",
        "0-9\n",
        " ,\n",
        "  \n",
        " should not start with a number\n",
        "Except '_' no other special characters are allowed, preferrably dont start with _\n",
        "Cannot use keywords"
      ],
      "metadata": {
        "id": "FQ9zgdvZiAaN"
      }
    },
    {
      "cell_type": "code",
      "source": [
        "this_is_a_variable = \"var\""
      ],
      "metadata": {
        "id": "Hcse6SmdiGmw"
      },
      "execution_count": 1,
      "outputs": []
    },
    {
      "cell_type": "code",
      "source": [
        "THIS_IS_A_VAR = 'VAR'"
      ],
      "metadata": {
        "id": "aTd2mfulinMC"
      },
      "execution_count": 2,
      "outputs": []
    },
    {
      "cell_type": "code",
      "source": [
        "var_of_number_9 = 9"
      ],
      "metadata": {
        "id": "pYtAWaRfirMD"
      },
      "execution_count": 3,
      "outputs": []
    },
    {
      "cell_type": "code",
      "source": [
        "var_of_0_holding_it = 0"
      ],
      "metadata": {
        "id": "lkHigb-Ritrc"
      },
      "execution_count": 4,
      "outputs": []
    },
    {
      "cell_type": "code",
      "source": [
        "014_var = 45"
      ],
      "metadata": {
        "colab": {
          "base_uri": "https://localhost:8080/",
          "height": 106
        },
        "id": "B2GCRDEHiwzG",
        "outputId": "e4258926-ba8b-4972-cd4d-67384c80253e"
      },
      "execution_count": 5,
      "outputs": [
        {
          "output_type": "error",
          "ename": "SyntaxError",
          "evalue": "invalid decimal literal (<ipython-input-5-d9ed1746240e>, line 1)",
          "traceback": [
            "\u001b[0;36m  File \u001b[0;32m\"<ipython-input-5-d9ed1746240e>\"\u001b[0;36m, line \u001b[0;32m1\u001b[0m\n\u001b[0;31m    014_var = 45\u001b[0m\n\u001b[0m       ^\u001b[0m\n\u001b[0;31mSyntaxError\u001b[0m\u001b[0;31m:\u001b[0m invalid decimal literal\n"
          ]
        }
      ]
    },
    {
      "cell_type": "code",
      "source": [
        "abc@c = 10"
      ],
      "metadata": {
        "colab": {
          "base_uri": "https://localhost:8080/",
          "height": 106
        },
        "id": "3PO3n2YDiyEy",
        "outputId": "25cf3dcf-7cd1-4cbe-b202-f28daafe0151"
      },
      "execution_count": 6,
      "outputs": [
        {
          "output_type": "error",
          "ename": "SyntaxError",
          "evalue": "cannot assign to expression here. Maybe you meant '==' instead of '='? (<ipython-input-6-d7825655e586>, line 1)",
          "traceback": [
            "\u001b[0;36m  File \u001b[0;32m\"<ipython-input-6-d7825655e586>\"\u001b[0;36m, line \u001b[0;32m1\u001b[0m\n\u001b[0;31m    abc@c = 10\u001b[0m\n\u001b[0m    ^\u001b[0m\n\u001b[0;31mSyntaxError\u001b[0m\u001b[0;31m:\u001b[0m cannot assign to expression here. Maybe you meant '==' instead of '='?\n"
          ]
        }
      ]
    },
    {
      "cell_type": "code",
      "source": [
        "ab_bc = 10"
      ],
      "metadata": {
        "id": "SWN8DJjvi2aX"
      },
      "execution_count": 7,
      "outputs": []
    },
    {
      "cell_type": "code",
      "source": [
        "and = \"my name\"\n"
      ],
      "metadata": {
        "id": "ZmI899KHi4rp",
        "outputId": "6e1f263b-6b01-4168-94e1-bf2356443375",
        "colab": {
          "base_uri": "https://localhost:8080/",
          "height": 106
        }
      },
      "execution_count": 8,
      "outputs": [
        {
          "output_type": "error",
          "ename": "SyntaxError",
          "evalue": "invalid syntax (<ipython-input-8-8b9787211320>, line 1)",
          "traceback": [
            "\u001b[0;36m  File \u001b[0;32m\"<ipython-input-8-8b9787211320>\"\u001b[0;36m, line \u001b[0;32m1\u001b[0m\n\u001b[0;31m    and = \"my name\"\u001b[0m\n\u001b[0m    ^\u001b[0m\n\u001b[0;31mSyntaxError\u001b[0m\u001b[0;31m:\u001b[0m invalid syntax\n"
          ]
        }
      ]
    }
  ]
}